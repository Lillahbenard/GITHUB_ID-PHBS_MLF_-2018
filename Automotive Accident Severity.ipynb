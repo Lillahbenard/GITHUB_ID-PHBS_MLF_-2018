{
 "cells": [
  {
   "cell_type": "markdown",
   "metadata": {},
   "source": [
    "# PREDICTION OF AUTOMOTIVE ACCIDENT SEVERITY"
   ]
  },
  {
   "cell_type": "markdown",
   "metadata": {},
   "source": [
    "## TABLE OF CONTENT\n",
    "* [Uploading libraries and packages](#UPLOADING-LIBRARIES-AND-PACKAGES)\n",
    "* [Data preprocessing](#DATA-PREPROCESSING)\n",
    "* [Re-sampling](#RE-SAMPLING)\n",
    "* [Standardization and PCA analysis](#STANDARDIZATION-AND-PCA-ANALYSIS)\n",
    "* [Models](#DECISION-TREE)\n",
    "    * [Deciosion Tree](#DECISION-TREE)\n",
    "    * [Neural Network](#NEURAL-NETWORK)\n",
    "    * [KNN](#KNN)\n",
    "    * [Logistic Regression](#LOGISTIC-REGRESSION)\n",
    "* [Summary](#SUMMARY)"
   ]
  },
  {
   "cell_type": "markdown",
   "metadata": {},
   "source": [
    "## UPLOADING LIBRARIES AND PACKAGES"
   ]
  },
  {
   "cell_type": "markdown",
   "metadata": {},
   "source": [
    "* GENERAL"
   ]
  },
  {
   "cell_type": "code",
   "execution_count": 3,
   "metadata": {
    "collapsed": true
   },
   "outputs": [],
   "source": [
    "import numpy as np\n",
    "import pandas as pd"
   ]
  },
  {
   "cell_type": "markdown",
   "metadata": {},
   "source": [
    "* RESAMPLING"
   ]
  },
  {
   "cell_type": "code",
   "execution_count": 4,
   "metadata": {},
   "outputs": [
    {
     "ename": "ModuleNotFoundError",
     "evalue": "No module named 'tabulate'",
     "output_type": "error",
     "traceback": [
      "\u001b[1;31m---------------------------------------------------------------------------\u001b[0m",
      "\u001b[1;31mModuleNotFoundError\u001b[0m                       Traceback (most recent call last)",
      "\u001b[1;32m<ipython-input-4-de3aa262bff2>\u001b[0m in \u001b[0;36m<module>\u001b[1;34m()\u001b[0m\n\u001b[0;32m      4\u001b[0m \u001b[1;32mimport\u001b[0m \u001b[0mseaborn\u001b[0m \u001b[1;32mas\u001b[0m \u001b[0msns\u001b[0m\u001b[1;33m\u001b[0m\u001b[0m\n\u001b[0;32m      5\u001b[0m \u001b[1;32mfrom\u001b[0m \u001b[0mIPython\u001b[0m\u001b[1;33m.\u001b[0m\u001b[0mdisplay\u001b[0m \u001b[1;32mimport\u001b[0m \u001b[0mHTML\u001b[0m\u001b[1;33m,\u001b[0m \u001b[0mdisplay\u001b[0m\u001b[1;33m\u001b[0m\u001b[0m\n\u001b[1;32m----> 6\u001b[1;33m \u001b[1;32mimport\u001b[0m \u001b[0mtabulate\u001b[0m\u001b[1;33m\u001b[0m\u001b[0m\n\u001b[0m",
      "\u001b[1;31mModuleNotFoundError\u001b[0m: No module named 'tabulate'"
     ]
    }
   ],
   "source": [
    "import matplotlib.pyplot as plt   \n",
    "from pydotplus import graph_from_dot_data\n",
    "from IPython.display import Image  \n",
    "import seaborn as sns\n",
    "from IPython.display import HTML, display\n",
    "import tabulate"
   ]
  },
  {
   "cell_type": "markdown",
   "metadata": {},
   "source": [
    "* PLOTS, TABS"
   ]
  },
  {
   "cell_type": "code",
   "execution_count": null,
   "metadata": {
    "collapsed": true
   },
   "outputs": [],
   "source": [
    "from imblearn import under_sampling, over_sampling\n",
    "from imblearn.over_sampling import SMOTE\n",
    "from imblearn.under_sampling import RandomUnderSampler"
   ]
  },
  {
   "cell_type": "markdown",
   "metadata": {},
   "source": [
    "* CROSS- VALIDATION"
   ]
  },
  {
   "cell_type": "code",
   "execution_count": null,
   "metadata": {
    "collapsed": true
   },
   "outputs": [],
   "source": [
    "from sklearn.model_selection import KFold\n",
    "from sklearn.model_selection import cross_val_score"
   ]
  },
  {
   "cell_type": "markdown",
   "metadata": {},
   "source": [
    "* DECISION TREE"
   ]
  },
  {
   "cell_type": "code",
   "execution_count": null,
   "metadata": {
    "collapsed": true
   },
   "outputs": [],
   "source": [
    "from sklearn.tree import DecisionTreeClassifier \n",
    "from sklearn.tree import export_graphviz"
   ]
  },
  {
   "cell_type": "markdown",
   "metadata": {},
   "source": [
    "* STANDARDIZATION, PCA ANALYSIS"
   ]
  },
  {
   "cell_type": "code",
   "execution_count": null,
   "metadata": {
    "collapsed": true
   },
   "outputs": [],
   "source": [
    "from sklearn.preprocessing import StandardScaler\n",
    "from sklearn.decomposition import PCA"
   ]
  },
  {
   "cell_type": "markdown",
   "metadata": {},
   "source": [
    "* NEURAL NETWORK"
   ]
  },
  {
   "cell_type": "code",
   "execution_count": null,
   "metadata": {
    "collapsed": true
   },
   "outputs": [],
   "source": [
    "from tensorflow.keras.models import Sequential\n",
    "from tensorflow.keras.layers import Dense\n",
    "from tensorflow.keras.wrappers.scikit_learn import KerasClassifier\n",
    "from tensorflow.python.keras import utils\n",
    "from sklearn.preprocessing import LabelEncoder\n",
    "#from sklearn.pipeline import Pipeline"
   ]
  },
  {
   "cell_type": "markdown",
   "metadata": {},
   "source": [
    "* KNN"
   ]
  },
  {
   "cell_type": "code",
   "execution_count": null,
   "metadata": {
    "collapsed": true
   },
   "outputs": [],
   "source": [
    "from sklearn.neighbors import KNeighborsClassifier"
   ]
  },
  {
   "cell_type": "markdown",
   "metadata": {},
   "source": [
    "* LOGISTIC REGRESSION"
   ]
  },
  {
   "cell_type": "code",
   "execution_count": null,
   "metadata": {
    "collapsed": true
   },
   "outputs": [],
   "source": [
    "from sklearn.linear_model import LogisticRegression"
   ]
  },
  {
   "cell_type": "markdown",
   "metadata": {},
   "source": [
    "## DATA PREPROCESSING "
   ]
  },
  {
   "cell_type": "code",
   "execution_count": null,
   "metadata": {
    "collapsed": true
   },
   "outputs": [],
   "source": [
    "#reading datafiles\n",
    "df1 = pd.read_csv('data/2014 excel.csv')\n",
    "df2 = pd.read_csv('data/2015 excel.csv')\n",
    "df3 = pd.read_csv('data/2016 excel.csv')\n",
    "\n",
    "#merging datafiles\n",
    "frames = [df1, df2, df3]\n",
    "result = pd.concat(frames, axis=0)"
   ]
  },
  {
   "cell_type": "code",
   "execution_count": null,
   "metadata": {
    "collapsed": true
   },
   "outputs": [],
   "source": [
    "#dropping unnecessary columns\n",
    "result= result.drop(['Grid Ref: Northing','Grid Ref: Easting','Reference Number','Expr1','Accident Date','Lighting Conditions','1st Road Class'],axis=1)\n",
    "\n",
    "#dropping observations with missing values\n",
    "result= result.dropna(axis=0)"
   ]
  },
  {
   "cell_type": "code",
   "execution_count": null,
   "metadata": {
    "collapsed": true
   },
   "outputs": [],
   "source": [
    "#listing objects for the further processing \n",
    "list1=['Monday','Tuesday','Wednesday','Thursday']\n",
    "list2=['Friday','Saturday','Sunday']\n",
    "list3=['Fine without high winds','Fine with high winds']\n",
    "list4=['Snowing without high winds','Snowing with high winds']\n",
    "list5=['Raining without high winds','Raining with high winds']\n",
    "list6=['Fog or mist']\n",
    "list7=['Minibus (8 to 16 passenger seats)','Bus or coach (17 or more passenger seats)']\n",
    "list8=['Goods vehicle 3.5 tonnes mgw and under','Goods vehicle over 3.5 tonnes and under 7.5 tonnes mgw','goods','Goods vehicle over 3.5 tonnes and under 7.5 tonnes mgw']\n",
    "list9=['Motorcycle over 50cc and up to 125cc','Motorcycle over 125cc and up to 500cc','M cycle 50cc and under','Motorcycle over 500cc','Motorcycle Unknown CC']\n",
    "list10=['Car','Taxi or Private hire car']\n",
    "list11=['Driver', 'Driver ']\n",
    "list12=['Pedestrian']"
   ]
  },
  {
   "cell_type": "code",
   "execution_count": null,
   "metadata": {
    "collapsed": true
   },
   "outputs": [],
   "source": [
    "#converting 'Day' feature\n",
    "def b(row):\n",
    "    if row['Day']in list1:\n",
    "        val='weekday'\n",
    "    elif row['Day']in list2:\n",
    "        val='weekend'\n",
    "    return val\n",
    "result['Day'] = result.apply(b, axis=1)\n",
    "\n",
    "#converting 'Weather Conditions' feature\n",
    "def e(row):\n",
    "    if row['Weather Conditions']in list3:\n",
    "        val='fine'\n",
    "    elif row['Weather Conditions']in list4:\n",
    "        val='snowing'\n",
    "    elif row['Weather Conditions']in list5:\n",
    "        val='raining'\n",
    "    elif row['Weather Conditions']in list6:\n",
    "        val='fog'\n",
    "    else: \n",
    "        val='other'   \n",
    "    return val\n",
    "result['Weather Conditions'] = result.apply(e, axis=1)\n",
    "\n",
    "#converting 'Type of Vehicle' feature\n",
    "def j(row):\n",
    "    if row['Type of Vehicle']in list7:\n",
    "        val='bus'\n",
    "    elif row['Type of Vehicle']in list8:\n",
    "        val='goods vehicle'\n",
    "    elif row['Type of Vehicle']in list9:\n",
    "        val='motorcycle'\n",
    "    elif row['Type of Vehicle']in list10:\n",
    "        val='car'\n",
    "    else: \n",
    "        val='other'\n",
    "    return val\n",
    "result['Type of Vehicle'] = result.apply(j, axis=1)\n",
    "\n",
    "#converting 'Time (24hr) feature\n",
    "def c(row):\n",
    "    if 600< row['Time (24hr)'] <= 1801:\n",
    "        val='Day-time'\n",
    "    else:\n",
    "        val='Night-time'\n",
    "    return val\n",
    "result['Time (24hr)'] = result.apply(c, axis=1)\n",
    "\n",
    "#converting 'Casualty Class' feature\n",
    "def a(row):\n",
    "    if row['Casualty Class']in list11:\n",
    "        val='Driver'\n",
    "    elif row['Casualty Class']in list12:\n",
    "        val='Pedestrian'\n",
    "    else: \n",
    "        val='Passenger'\n",
    "    return val\n",
    "result['Casualty Class'] = result.apply(a, axis=1)\n",
    "\n",
    "#creating dummy variables for categegorical variales \n",
    "result=pd.get_dummies(result,columns=['Day','Time (24hr)','Road Surface','Weather Conditions','Casualty Class','Sex of Casualty','Type of Vehicle'])\n",
    "\n",
    "#dealing with columns containing the same information\n",
    "result = result.drop(['Day_weekday', 'Time (24hr)_Day-time', 'Sex of Casualty_Female'] , axis=1)"
   ]
  },
  {
   "cell_type": "markdown",
   "metadata": {},
   "source": [
    "## RE-SAMPLING"
   ]
  },
  {
   "cell_type": "code",
   "execution_count": 1,
   "metadata": {},
   "outputs": [
    {
     "ename": "NameError",
     "evalue": "name 'result' is not defined",
     "output_type": "error",
     "traceback": [
      "\u001b[1;31m---------------------------------------------------------------------------\u001b[0m",
      "\u001b[1;31mNameError\u001b[0m                                 Traceback (most recent call last)",
      "\u001b[1;32m<ipython-input-1-6bf87bc4aaf3>\u001b[0m in \u001b[0;36m<module>\u001b[1;34m()\u001b[0m\n\u001b[1;32m----> 1\u001b[1;33m \u001b[0mresult\u001b[0m\u001b[1;33m[\u001b[0m\u001b[1;34m'Casualty Severity'\u001b[0m\u001b[1;33m]\u001b[0m\u001b[1;33m.\u001b[0m\u001b[0mvalue_counts\u001b[0m\u001b[1;33m(\u001b[0m\u001b[1;33m)\u001b[0m\u001b[1;33m\u001b[0m\u001b[0m\n\u001b[0m",
      "\u001b[1;31mNameError\u001b[0m: name 'result' is not defined"
     ]
    }
   ],
   "source": [
    "result['Casualty Severity'].value_counts()"
   ]
  },
  {
   "cell_type": "code",
   "execution_count": 2,
   "metadata": {},
   "outputs": [
    {
     "ename": "NameError",
     "evalue": "name 'np' is not defined",
     "output_type": "error",
     "traceback": [
      "\u001b[1;31m---------------------------------------------------------------------------\u001b[0m",
      "\u001b[1;31mNameError\u001b[0m                                 Traceback (most recent call last)",
      "\u001b[1;32m<ipython-input-2-56a880be060f>\u001b[0m in \u001b[0;36m<module>\u001b[1;34m()\u001b[0m\n\u001b[0;32m      1\u001b[0m \u001b[0mseed\u001b[0m\u001b[1;33m=\u001b[0m\u001b[1;36m12345\u001b[0m\u001b[1;33m\u001b[0m\u001b[0m\n\u001b[1;32m----> 2\u001b[1;33m \u001b[0mnp\u001b[0m\u001b[1;33m.\u001b[0m\u001b[0mrandom\u001b[0m\u001b[1;33m.\u001b[0m\u001b[0mseed\u001b[0m\u001b[1;33m(\u001b[0m\u001b[0mseed\u001b[0m\u001b[1;33m)\u001b[0m\u001b[1;33m\u001b[0m\u001b[0m\n\u001b[0m",
      "\u001b[1;31mNameError\u001b[0m: name 'np' is not defined"
     ]
    }
   ],
   "source": [
    "seed=12345\n",
    "np.random.seed(seed)"
   ]
  },
  {
   "cell_type": "code",
   "execution_count": null,
   "metadata": {
    "collapsed": true
   },
   "outputs": [],
   "source": [
    "#dividing dataset into two: X- independent variables and y- dependent variable  \n",
    "X = result.drop('Casualty Severity', axis=1)\n",
    "y = result['Casualty Severity']"
   ]
  },
  {
   "cell_type": "code",
   "execution_count": null,
   "metadata": {
    "collapsed": true
   },
   "outputs": [],
   "source": [
    "#undersampling 'Slight' class to the 'Serious' class\n",
    "array = ['Slight', 'Serious']\n",
    "result_a=result.loc[result['Casualty Severity'].isin(array)]\n",
    "X_a = result_a.drop('Casualty Severity', axis=1)\n",
    "y_a = result_a['Casualty Severity']\n",
    "sm = RandomUnderSampler()\n",
    "X_a, y_a = sm.fit_sample(X_a, y_a)\n",
    "label = list(X)\n",
    "X_a=pd.DataFrame(data = X_a, columns = label)\n",
    "y_a=pd.DataFrame(data = y_a, columns = ['Casualty Severity'])\n",
    "result_b=pd.merge(y_a,X_a,right_index=True, left_index=True)\n",
    "result_c=result.loc[result['Casualty Severity']=='Fatal']\n",
    "cols=list(result_b)\n",
    "result_c=result_c[cols]\n",
    "result_d=pd.concat([result_b,result_c])\n",
    "result_d['Casualty Severity'].value_counts()"
   ]
  },
  {
   "cell_type": "code",
   "execution_count": null,
   "metadata": {
    "collapsed": true
   },
   "outputs": [],
   "source": [
    "#oversampling 'Fatal' class to the 'Serious' class\n",
    "array = ['Fatal', 'Serious']\n",
    "result_e=result_d.loc[result_d['Casualty Severity'].isin(array)]\n",
    "X_e = result_e.drop('Casualty Severity', axis=1)\n",
    "y_e = result_e['Casualty Severity']\n",
    "sm = SMOTE()\n",
    "X_e, y_e = sm.fit_sample(X_e, y_e)\n",
    "X_d = result_d.drop('Casualty Severity', axis=1)\n",
    "label = list(X_d)\n",
    "X_e=pd.DataFrame(data = X_e, columns = label)\n",
    "y_e=pd.DataFrame(data = y_e, columns = ['Casualty Severity'])\n",
    "result_f=pd.merge(y_e,X_e,right_index=True, left_index=True)\n",
    "result_g=result_d.loc[result_d['Casualty Severity']=='Slight']\n",
    "cols=list(result_f)\n",
    "result_g=result_g[cols]\n",
    "result_h=pd.concat([result_f,result_g])\n",
    "result_h['Casualty Severity'].value_counts()"
   ]
  },
  {
   "cell_type": "code",
   "execution_count": null,
   "metadata": {
    "collapsed": true
   },
   "outputs": [],
   "source": [
    "#dividing dataset into two: X- independent variables and y- dependent variable  \n",
    "X = result_h.drop('Casualty Severity', axis=1)\n",
    "y = result_h['Casualty Severity']\n",
    "result=result_h"
   ]
  },
  {
   "cell_type": "markdown",
   "metadata": {},
   "source": [
    "## STANDARDIZATION AND PCA ANALYSIS"
   ]
  },
  {
   "cell_type": "code",
   "execution_count": null,
   "metadata": {
    "collapsed": true
   },
   "outputs": [],
   "source": [
    "#standardization \n",
    "stdsc = StandardScaler()\n",
    "X_1 = stdsc.fit_transform(X)"
   ]
  },
  {
   "cell_type": "code",
   "execution_count": null,
   "metadata": {
    "collapsed": true
   },
   "outputs": [],
   "source": [
    "#choosing the number of components for PCA\n",
    "pca = PCA().fit(X_1.data)\n",
    "plt.plot(np.cumsum(pca.explained_variance_ratio_))\n",
    "plt.xlabel('number of components')\n",
    "plt.ylabel('cumulative explained variance')\n",
    "plt.show()\n",
    "#the first 15 components contain approximately 90% of the variance"
   ]
  },
  {
   "cell_type": "code",
   "execution_count": null,
   "metadata": {
    "collapsed": true
   },
   "outputs": [],
   "source": [
    "#PCA\n",
    "pca = PCA(n_components=12)\n",
    "X_2 = pca.fit_transform(X_1)"
   ]
  },
  {
   "cell_type": "markdown",
   "metadata": {},
   "source": [
    "## DECISION TREE"
   ]
  },
  {
   "cell_type": "code",
   "execution_count": null,
   "metadata": {
    "collapsed": true
   },
   "outputs": [],
   "source": [
    "#searching for the depth of the tree that returns the best model accuracy\n",
    "for i in range(1,40):\n",
    "    tree = DecisionTreeClassifier(criterion='gini',max_depth=i ,random_state=1, class_weight='balanced')  \n",
    "    tree .fit(X, y) \n",
    "    y_pred =tree .predict(X)\n",
    "    kfold = KFold(n_splits=10, shuffle=True, random_state=seed)\n",
    "    score = cross_val_score(tree, X, y, cv=kfold)\n",
    "    mean=score.mean()*100\n",
    "    plt.scatter(i, mean)\n",
    "    print(mean)\n",
    "plt.show()"
   ]
  },
  {
   "cell_type": "code",
   "execution_count": null,
   "metadata": {
    "collapsed": true
   },
   "outputs": [],
   "source": [
    "#defining the model with max_depth=6\n",
    "tree = DecisionTreeClassifier(criterion='gini',max_depth=6,random_state=1)  \n",
    "tree.fit(X, y) \n",
    "y_pred=tree.predict(X)\n",
    "\n",
    "#evaluation procedure\n",
    "kfold = KFold(n_splits=10, shuffle=True, random_state=seed)\n",
    "\n",
    "#cross validation\n",
    "score = cross_val_score(tree, X, y, cv=kfold)\n",
    "print(\"mean accuracy %.2f%% (standard deviation %.2f%%)\" % (score.mean()*100, score.std()*100))\n",
    "#The results are summarized as both the mean and standard deviation of the model accuracy on the dataset."
   ]
  },
  {
   "cell_type": "code",
   "execution_count": null,
   "metadata": {
    "collapsed": true
   },
   "outputs": [],
   "source": [
    "#finding the 3 most important features\n",
    "importance = tree.feature_importances_\n",
    "column_names = X.columns.values.tolist()\n",
    "importances = dict(zip(importance, column_names))\n",
    "\n",
    "important_features = []\n",
    "\n",
    "for ii in range(len(importance)):\n",
    "    if ii < 3:\n",
    "        important_features.append(importances[sorted(importance, reverse = True)[ii]])\n",
    "        \n",
    "print('The 3 most important features in decision tree model are: '+str(important_features))"
   ]
  },
  {
   "cell_type": "code",
   "execution_count": null,
   "metadata": {
    "collapsed": true
   },
   "outputs": [],
   "source": [
    "#plotting decision tree\n",
    "dot_data = export_graphviz(tree,\n",
    "                            filled=True, \n",
    "                            rounded=True,\n",
    "                            out_file=None,\n",
    "                            feature_names=list(X))  \n",
    "\n",
    "graph=graph_from_dot_data(dot_data)\n",
    "\n",
    "graph.write_png('tree.png')\n",
    "\n",
    "from IPython.display import Image\n",
    "Image('tree.png', width=1000)"
   ]
  },
  {
   "cell_type": "markdown",
   "metadata": {},
   "source": [
    "## NEURAL NETWORK"
   ]
  },
  {
   "cell_type": "code",
   "execution_count": null,
   "metadata": {
    "collapsed": true
   },
   "outputs": [],
   "source": [
    "#one hot encoding\n",
    "encoder = LabelEncoder()\n",
    "encoder.fit(y)\n",
    "encoded_y = encoder.transform(y)\n",
    "\n",
    "# convert integers to dummy variables (i.e. one hot encoded)\n",
    "dummy_y = utils.np_utils.to_categorical(encoded_y)"
   ]
  },
  {
   "cell_type": "code",
   "execution_count": null,
   "metadata": {
    "collapsed": true
   },
   "outputs": [],
   "source": [
    "# defining baseline model\n",
    "def baseline_model():\n",
    "    model = Sequential()\n",
    "    model.add(Dense(24, input_dim=12, activation='relu'))\n",
    "    model.add(Dense(12, input_dim=24, activation='relu'))\n",
    "    model.add(Dense(3, activation='softmax'))\n",
    "    model.compile(loss='categorical_crossentropy', optimizer='adam', metrics=['accuracy'])\n",
    "    return model\n",
    "\n",
    "#“relu” activation function reduces likelihood of vanishing gradient\n",
    "#using a “softmax” activation function ensuring that the output values are in the range of 0 and 1 and may be used as predicted probabilities\n",
    "#when using the \"categorical_crossentropy\" loss, your targets should be in categorical format (e.g. if you have 10 classes, the target for each sample should be a 10-dimensional vector that is all-zeros except for a 1 at the index corresponding to the class of the sample) \n",
    "#\"Adam\" optimizer realizes the benefits of both AdaGrad (Adaptive Gradient Algorithm) and RMSProp (Root Mean Square Propagation)"
   ]
  },
  {
   "cell_type": "code",
   "execution_count": null,
   "metadata": {
    "collapsed": true
   },
   "outputs": [],
   "source": [
    "#defining classifier\n",
    "estimator = KerasClassifier(build_fn=baseline_model, epochs=100, batch_size=5, verbose=0)\n",
    "#batch defines the number of samples to work through before updating the internal model parameters\n",
    "#epoch defines the number of times that the learning algorithm will work through the entire training dataset\n",
    "#verbose is a general programming term for produce lots of logging output; set to 0 (silent) not to slower the computation"
   ]
  },
  {
   "cell_type": "code",
   "execution_count": null,
   "metadata": {
    "collapsed": true
   },
   "outputs": [],
   "source": [
    "#cross validation\n",
    "results = cross_val_score(estimator, X_2, dummy_y, cv=kfold)\n",
    "print(\"mean accuracy %.2f%% (standard deviation %.2f%%)\" % (results.mean()*100, results.std()*100))\n",
    "#The results are summarized as both the mean and standard deviation of the model accuracy on the dataset. "
   ]
  },
  {
   "cell_type": "markdown",
   "metadata": {},
   "source": [
    "## KNN"
   ]
  },
  {
   "cell_type": "code",
   "execution_count": null,
   "metadata": {
    "collapsed": true
   },
   "outputs": [],
   "source": [
    "#searching for the number of the neighbors that returns the best model accuracy\n",
    "for i in range(1,40):\n",
    "    knn = KNeighborsClassifier(n_neighbors=i, p=2,\n",
    "                               metric='minkowski')\n",
    "    knn.fit(X_2, y)\n",
    "    results3 = cross_val_score(knn, X_2, y, cv=kfold)\n",
    "    mean=results3.mean()*100\n",
    "    plt.scatter(i, mean)\n",
    "    print(mean)\n",
    "plt.show()"
   ]
  },
  {
   "cell_type": "code",
   "execution_count": null,
   "metadata": {
    "collapsed": true
   },
   "outputs": [],
   "source": [
    "#defining the model with 10 neighbors\n",
    "knn = KNeighborsClassifier(n_neighbors=5, p=2,\n",
    "                               metric='minkowski')\n",
    "knn.fit(X_2, y)\n",
    "\n",
    "#cross validation\n",
    "results3 = cross_val_score(knn, X_2, y, cv=kfold)\n",
    "\n",
    "print(\"mean accuracy %.2f%% (standard deviation %.2f%%)\" % (results3.mean()*100, results3.std()*100))\n",
    "#The results are summarized as both the mean and standard deviation of the model accuracy on the dataset. "
   ]
  },
  {
   "cell_type": "markdown",
   "metadata": {},
   "source": [
    "## LOGISTIC REGRESSION"
   ]
  },
  {
   "cell_type": "markdown",
   "metadata": {},
   "source": [
    "* using PCA"
   ]
  },
  {
   "cell_type": "code",
   "execution_count": null,
   "metadata": {
    "collapsed": true
   },
   "outputs": [],
   "source": [
    "#defining the model\n",
    "lr = LogisticRegression(C=100, random_state=1)\n",
    "#the term C is directly related to the regularization parameter λ\n",
    "lr.fit(X_2, y)\n",
    "\n",
    "#cross validation\n",
    "results1 = cross_val_score(lr, X_2, y, cv=kfold)\n",
    "print(\"mean accuracy %.2f%% (standard deviation %.2f%%)\" % (results1.mean()*100, results1.std()*100))\n",
    "#The results are summarized as both the mean and standard deviation of the model accuracy on the dataset. "
   ]
  },
  {
   "cell_type": "markdown",
   "metadata": {},
   "source": [
    "* without PCA"
   ]
  },
  {
   "cell_type": "code",
   "execution_count": null,
   "metadata": {
    "collapsed": true
   },
   "outputs": [],
   "source": [
    "#dropping reference variables\n",
    "X_3 = X.drop(['Road Surface_Dry', 'Weather Conditions_fine', 'Casualty Class_Driver', 'Type of Vehicle_other'], axis=1)"
   ]
  },
  {
   "cell_type": "code",
   "execution_count": null,
   "metadata": {
    "collapsed": true
   },
   "outputs": [],
   "source": [
    "#correlation matrix\n",
    "f, ax = plt.subplots(figsize=(15, 15))\n",
    "corr = X_3.corr()\n",
    "sns.heatmap(corr, mask=np.zeros_like(corr, dtype=np.bool), cmap=sns.diverging_palette(220, 10, as_cmap=True),\n",
    "            square=True, ax=ax)\n",
    "plt.show()"
   ]
  },
  {
   "cell_type": "code",
   "execution_count": null,
   "metadata": {
    "collapsed": true
   },
   "outputs": [],
   "source": [
    "#dropping highly correlated variables\n",
    "X_4 = X_3.drop(['Road Surface_Flood (surface water over 3cm deep)',\n",
    " 'Road Surface_Frost or Ice',\n",
    " 'Road Surface_Snow',\n",
    " 'Road Surface_Wet or Damp'], axis=1)"
   ]
  },
  {
   "cell_type": "code",
   "execution_count": null,
   "metadata": {
    "collapsed": true
   },
   "outputs": [],
   "source": [
    "#correlation matrix\n",
    "f, ax = plt.subplots(figsize=(15, 15))\n",
    "corr = X_4.corr()\n",
    "sns.heatmap(corr, mask=np.zeros_like(corr, dtype=np.bool), cmap=sns.diverging_palette(220, 10, as_cmap=True),\n",
    "            square=True, ax=ax)\n",
    "plt.show()"
   ]
  },
  {
   "cell_type": "code",
   "execution_count": null,
   "metadata": {
    "collapsed": true
   },
   "outputs": [],
   "source": [
    "#defining the model\n",
    "lr = LogisticRegression(C=100, random_state=1)\n",
    "#the term C is directly related to the regularization parameter λ\n",
    "lr.fit(X_4, y)\n",
    "\n",
    "#cross validation\n",
    "results2 = cross_val_score(lr, X_4, y, cv=kfold)\n",
    "print(\"mean accuracy %.2f%% (standard deviation %.2f%%)\" % (results2.mean()*100, results2.std()*100))\n",
    "#The results are summarized as both the mean and standard deviation of the model accuracy on the dataset. "
   ]
  },
  {
   "cell_type": "code",
   "execution_count": null,
   "metadata": {
    "collapsed": true
   },
   "outputs": [],
   "source": [
    "#displaying coefficients\n",
    "coef = lr.coef_[0]\n",
    "table = [coef]\n",
    "display(HTML(tabulate.tabulate(table, headers=list(X_4), tablefmt='html')))"
   ]
  },
  {
   "cell_type": "markdown",
   "metadata": {},
   "source": [
    "## SUMMARY "
   ]
  },
  {
   "cell_type": "code",
   "execution_count": null,
   "metadata": {
    "collapsed": true
   },
   "outputs": [],
   "source": [
    "table = [[\"Random Tree\",round(score.mean()*100,2),round(score.std()*100,2)],\n",
    "         [\"Neural Network\",round(results.mean()*100,2),round(results.std()*100,2)],\n",
    "         [\"KNN\",round(results3.mean()*100,2) , round(results3.std()*100,2)],\n",
    "         [\"Logistic Regression with PCA\", round(results1.mean()*100,2) , round(results1.std()*100,2)],\n",
    "         [\"Logistic Regression without PCA\", round(results2.mean()*100,2) , round(results2.std()*100,2)]]\n",
    "display(HTML(tabulate.tabulate(table, headers=[\"Algorithm\",\"Mean Accuracy\", \"Standard Deviation\"], tablefmt='html')))"
   ]
  }
 ],
 "metadata": {
  "kernelspec": {
   "display_name": "Python 3",
   "language": "python",
   "name": "python3"
  },
  "language_info": {
   "codemirror_mode": {
    "name": "ipython",
    "version": 3
   },
   "file_extension": ".py",
   "mimetype": "text/x-python",
   "name": "python",
   "nbconvert_exporter": "python",
   "pygments_lexer": "ipython3",
   "version": "3.6.3"
  }
 },
 "nbformat": 4,
 "nbformat_minor": 2
}
