{
 "cells": [
  {
   "cell_type": "markdown",
   "metadata": {},
   "source": [
    "# PREDICTION OF AUTOMOTIVE ACCIDENT SEVERITY"
   ]
  },
  {
   "cell_type": "markdown",
   "metadata": {},
   "source": [
    "## TABLE OF CONTENT\n",
    "* [Uploading libraries and packages](#UPLOADING-LIBRARIES-AND-PACKAGES)\n",
    "* [Data preprocessing](#DATA-PREPROCESSING)\n",
    "* [Re-sampling](#RE-SAMPLING)\n",
    "* [Standardization and PCA analysis](#STANDARDIZATION-AND-PCA-ANALYSIS)\n",
    "* [Models](#DECISION-TREE)\n",
    "    * [Deciosion Tree](#DECISION-TREE)\n",
    "    * [Neural Network](#NEURAL-NETWORK)\n",
    "    * [KNN](#KNN)\n",
    "    * [Logistic Regression](#LOGISTIC-REGRESSION)\n",
    "* [Summary](#SUMMARY)"
   ]
  },
  {
   "cell_type": "markdown",
   "metadata": {},
   "source": [
    "## UPLOADING LIBRARIES AND PACKAGES"
   ]
  },
  {
   "cell_type": "markdown",
   "metadata": {},
   "source": [
    "* GENERAL"
   ]
  },
  {
   "cell_type": "code",
   "execution_count": 3,
   "metadata": {},
   "outputs": [],
   "source": [
    "import numpy as np\n",
    "import pandas as pd"
   ]
  },
  {
   "cell_type": "markdown",
   "metadata": {},
   "source": [
    "* RESAMPLING"
   ]
  },
  {
   "cell_type": "code",
   "execution_count": 4,
   "metadata": {},
   "outputs": [
    {
     "ename": "ModuleNotFoundError",
     "evalue": "No module named 'tabulate'",
     "output_type": "error",
     "traceback": [
      "\u001b[1;31m---------------------------------------------------------------------------\u001b[0m",
      "\u001b[1;31mModuleNotFoundError\u001b[0m                       Traceback (most recent call last)",
      "\u001b[1;32m<ipython-input-4-de3aa262bff2>\u001b[0m in \u001b[0;36m<module>\u001b[1;34m()\u001b[0m\n\u001b[0;32m      4\u001b[0m \u001b[1;32mimport\u001b[0m \u001b[0mseaborn\u001b[0m \u001b[1;32mas\u001b[0m \u001b[0msns\u001b[0m\u001b[1;33m\u001b[0m\u001b[0m\n\u001b[0;32m      5\u001b[0m \u001b[1;32mfrom\u001b[0m \u001b[0mIPython\u001b[0m\u001b[1;33m.\u001b[0m\u001b[0mdisplay\u001b[0m \u001b[1;32mimport\u001b[0m \u001b[0mHTML\u001b[0m\u001b[1;33m,\u001b[0m \u001b[0mdisplay\u001b[0m\u001b[1;33m\u001b[0m\u001b[0m\n\u001b[1;32m----> 6\u001b[1;33m \u001b[1;32mimport\u001b[0m \u001b[0mtabulate\u001b[0m\u001b[1;33m\u001b[0m\u001b[0m\n\u001b[0m",
      "\u001b[1;31mModuleNotFoundError\u001b[0m: No module named 'tabulate'"
     ]
    }
   ],
   "source": [
    "import matplotlib.pyplot as plt   \n",
    "from pydotplus import graph_from_dot_data\n",
    "from IPython.display import Image  \n",
    "import seaborn as sns\n",
    "from IPython.display import HTML, display\n",
    "import tabulate"
   ]
  },
  {
   "cell_type": "markdown",
   "metadata": {},
   "source": [
    "* PLOTS, TABS"
   ]
  },
  {
   "cell_type": "code",
   "execution_count": null,
   "metadata": {},
   "outputs": [],
   "source": [
    "from imblearn import under_sampling, over_sampling\n",
    "from imblearn.over_sampling import SMOTE\n",
    "from imblearn.under_sampling import RandomUnderSampler"
   ]
  },
  {
   "cell_type": "markdown",
   "metadata": {},
   "source": [
    "* CROSS- VALIDATION"
   ]
  },
  {
   "cell_type": "code",
   "execution_count": null,
   "metadata": {},
   "outputs": [],
   "source": [
    "from sklearn.model_selection import KFold\n",
    "from sklearn.model_selection import cross_val_score"
   ]
  },
  {
   "cell_type": "markdown",
   "metadata": {},
   "source": [
    "* DECISION TREE"
   ]
  },
  {
   "cell_type": "code",
   "execution_count": null,
   "metadata": {},
   "outputs": [],
   "source": [
    "from sklearn.tree import DecisionTreeClassifier \n",
    "from sklearn.tree import export_graphviz"
   ]
  },
  {
   "cell_type": "markdown",
   "metadata": {},
   "source": [
    "* STANDARDIZATION, PCA ANALYSIS"
   ]
  },
  {
   "cell_type": "code",
   "execution_count": null,
   "metadata": {},
   "outputs": [],
   "source": [
    "from sklearn.preprocessing import StandardScaler\n",
    "from sklearn.decomposition import PCA"
   ]
  },
  {
   "cell_type": "markdown",
   "metadata": {},
   "source": [
    "* NEURAL NETWORK"
   ]
  },
  {
   "cell_type": "code",
   "execution_count": null,
   "metadata": {},
   "outputs": [],
   "source": [
    "from tensorflow.keras.models import Sequential\n",
    "from tensorflow.keras.layers import Dense\n",
    "from tensorflow.keras.wrappers.scikit_learn import KerasClassifier\n",
    "from tensorflow.python.keras import utils\n",
    "from sklearn.preprocessing import LabelEncoder\n",
    "#from sklearn.pipeline import Pipeline"
   ]
  },
  {
   "cell_type": "markdown",
   "metadata": {},
   "source": [
    "* KNN"
   ]
  },
  {
   "cell_type": "code",
   "execution_count": null,
   "metadata": {},
   "outputs": [],
   "source": [
    "from sklearn.neighbors import KNeighborsClassifier"
   ]
  },
  {
   "cell_type": "markdown",
   "metadata": {},
   "source": [
    "* LOGISTIC REGRESSION"
   ]
  },
  {
   "cell_type": "code",
   "execution_count": null,
   "metadata": {},
   "outputs": [],
   "source": [
    "from sklearn.linear_model import LogisticRegression"
   ]
  },
  {
   "cell_type": "markdown",
   "metadata": {},
   "source": [
    "## DATA PREPROCESSING "
   ]
  },
  {
   "cell_type": "code",
   "execution_count": null,
   "metadata": {},
   "outputs": [],
   "source": [
    "#reading datafiles\n",
    "df1 = pd.read_csv('data/2014 excel.csv')\n",
    "df2 = pd.read_csv('data/2015 excel.csv')\n",
    "df3 = pd.read_csv('data/2016 excel.csv')\n",
    "\n",
    "#merging datafiles\n",
    "frames = [df1, df2, df3]\n",
    "result = pd.concat(frames, axis=0)"
   ]
  },
  {
   "cell_type": "code",
   "execution_count": null,
   "metadata": {},
   "outputs": [],
   "source": [
    "#dropping unnecessary columns\n",
    "result= result.drop(['Grid Ref: Northing','Grid Ref: Easting','Reference Number','Expr1','Accident Date','Lighting Conditions','1st Road Class'],axis=1)\n",
    "\n",
    "#dropping observations with missing values\n",
    "result= result.dropna(axis=0)"
   ]
  },
  {
   "cell_type": "code",
   "execution_count": null,
   "metadata": {},
   "outputs": [],
   "source": [
    "#listing objects for the further processing \n",
    "list1=['Monday','Tuesday','Wednesday','Thursday']\n",
    "list2=['Friday','Saturday','Sunday']\n",
    "list3=['Fine without high winds','Fine with high winds']\n",
    "list4=['Snowing without high winds','Snowing with high winds']\n",
    "list5=['Raining without high winds','Raining with high winds']\n",
    "list6=['Fog or mist']\n",
    "list7=['Minibus (8 to 16 passenger seats)','Bus or coach (17 or more passenger seats)']\n",
    "list8=['Goods vehicle 3.5 tonnes mgw and under','Goods vehicle over 3.5 tonnes and under 7.5 tonnes mgw','goods','Goods vehicle over 3.5 tonnes and under 7.5 tonnes mgw']\n",
    "list9=['Motorcycle over 50cc and up to 125cc','Motorcycle over 125cc and up to 500cc','M cycle 50cc and under','Motorcycle over 500cc','Motorcycle Unknown CC']\n",
    "list10=['Car','Taxi or Private hire car']\n",
    "list11=['Driver', 'Driver ']\n",
    "list12=['Pedestrian']"
   ]
  },
  {
   "cell_type": "code",
   "execution_count": null,
   "metadata": {},
   "outputs": [],
   "source": [
    "#converting 'Day' feature\n",
    "def b(row):\n",
    "    if row['Day']in list1:\n",
    "        val='weekday'\n",
    "    elif row['Day']in list2:\n",
    "        val='weekend'\n",
    "    return val\n",
    "result['Day'] = result.apply(b, axis=1)\n",
    "\n",
    "#converting 'Weather Conditions' feature\n",
    "def e(row):\n",
    "    if row['Weather Conditions']in list3:\n",
    "        val='fine'\n",
    "    elif row['Weather Conditions']in list4:\n",
    "        val='snowing'\n",
    "    elif row['Weather Conditions']in list5:\n",
    "        val='raining'\n",
    "    elif row['Weather Conditions']in list6:\n",
    "        val='fog'\n",
    "    else: \n",
    "        val='other'   \n",
    "    return val\n",
    "result['Weather Conditions'] = result.apply(e, axis=1)\n",
    "\n",
    "#converting 'Type of Vehicle' feature\n",
    "def j(row):\n",
    "    if row['Type of Vehicle']in list7:\n",
    "        val='bus'\n",
    "    elif row['Type of Vehicle']in list8:\n",
    "        val='goods vehicle'\n",
    "    elif row['Type of Vehicle']in list9:\n",
    "        val='motorcycle'\n",
    "    elif row['Type of Vehicle']in list10:\n",
    "        val='car'\n",
    "    else: \n",
    "        val='other'\n",
    "    return val\n",
    "result['Type of Vehicle'] = result.apply(j, axis=1)\n",
    "\n",
    "#converting 'Time (24hr) feature\n",
    "def c(row):\n",
    "    if 600< row['Time (24hr)'] <= 1801:\n",
    "        val='Day-time'\n",
    "    else:\n",
    "        val='Night-time'\n",
    "    return val\n",
    "result['Time (24hr)'] = result.apply(c, axis=1)\n",
    "\n",
    "#converting 'Casualty Class' feature\n",
    "def a(row):\n",
    "    if row['Casualty Class']in list11:\n",
    "        val='Driver'\n",
    "    elif row['Casualty Class']in list12:\n",
    "        val='Pedestrian'\n",
    "    else: \n",
    "        val='Passenger'\n",
    "    return val\n",
    "result['Casualty Class'] = result.apply(a, axis=1)\n",
    "\n",
    "#creating dummy variables for categegorical variales \n",
    "result=pd.get_dummies(result,columns=['Day','Time (24hr)','Road Surface','Weather Conditions','Casualty Class','Sex of Casualty','Type of Vehicle'])\n",
    "\n",
    "#dealing with columns containing the same information\n",
    "result = result.drop(['Day_weekday', 'Time (24hr)_Day-time', 'Sex of Casualty_Female'] , axis=1)"
   ]
  },
  {
   "cell_type": "markdown",
   "metadata": {},
   "source": [
    "## DECISION TREE"
   ]
  },
  {
   "cell_type": "code",
   "execution_count": null,
   "metadata": {},
   "outputs": [],
   "source": [
    "#searching for the depth of the tree that returns the best model accuracy\n",
    "for i in range(1,40):\n",
    "    tree = DecisionTreeClassifier(criterion='gini',max_depth=i ,random_state=1, class_weight='balanced')  \n",
    "    tree .fit(X, y) \n",
    "    y_pred =tree .predict(X)\n",
    "    kfold = KFold(n_splits=10, shuffle=True, random_state=seed)\n",
    "    score = cross_val_score(tree, X, y, cv=kfold)\n",
    "    mean=score.mean()*100\n",
    "    plt.scatter(i, mean)\n",
    "    print(mean)\n",
    "plt.show()"
   ]
  },
  {
   "cell_type": "code",
   "execution_count": null,
   "metadata": {},
   "outputs": [],
   "source": [
    "#defining the model with max_depth=6\n",
    "tree = DecisionTreeClassifier(criterion='gini',max_depth=6,random_state=1)  \n",
    "tree.fit(X, y) \n",
    "y_pred=tree.predict(X)\n",
    "\n",
    "#evaluation procedure\n",
    "kfold = KFold(n_splits=10, shuffle=True, random_state=seed)\n",
    "\n",
    "#cross validation\n",
    "score = cross_val_score(tree, X, y, cv=kfold)\n",
    "print(\"mean accuracy %.2f%% (standard deviation %.2f%%)\" % (score.mean()*100, score.std()*100))\n",
    "#The results are summarized as both the mean and standard deviation of the model accuracy on the dataset."
   ]
  },
  {
   "cell_type": "code",
   "execution_count": null,
   "metadata": {},
   "outputs": [],
   "source": [
    "#finding the 3 most important features\n",
    "importance = tree.feature_importances_\n",
    "column_names = X.columns.values.tolist()\n",
    "importances = dict(zip(importance, column_names))\n",
    "\n",
    "important_features = []\n",
    "\n",
    "for ii in range(len(importance)):\n",
    "    if ii < 3:\n",
    "        important_features.append(importances[sorted(importance, reverse = True)[ii]])\n",
    "        \n",
    "print('The 3 most important features in decision tree model are: '+str(important_features))"
   ]
  },
  {
   "cell_type": "code",
   "execution_count": null,
   "metadata": {},
   "outputs": [],
   "source": [
    "#plotting decision tree\n",
    "dot_data = export_graphviz(tree,\n",
    "                            filled=True, \n",
    "                            rounded=True,\n",
    "                            out_file=None,\n",
    "                            feature_names=list(X))  \n",
    "\n",
    "graph=graph_from_dot_data(dot_data)\n",
    "\n",
    "graph.write_png('tree.png')\n",
    "\n",
    "from IPython.display import Image\n",
    "Image('tree.png', width=1000)"
   ]
  },
  {
   "cell_type": "markdown",
   "metadata": {},
   "source": [
    "## KNN"
   ]
  },
  {
   "cell_type": "code",
   "execution_count": null,
   "metadata": {},
   "outputs": [],
   "source": [
    "#searching for the number of the neighbors that returns the best model accuracy\n",
    "for i in range(1,40):\n",
    "    knn = KNeighborsClassifier(n_neighbors=i, p=2,\n",
    "                               metric='minkowski')\n",
    "    knn.fit(X_2, y)\n",
    "    results3 = cross_val_score(knn, X_2, y, cv=kfold)\n",
    "    mean=results3.mean()*100\n",
    "    plt.scatter(i, mean)\n",
    "    print(mean)\n",
    "plt.show()"
   ]
  },
  {
   "cell_type": "code",
   "execution_count": null,
   "metadata": {},
   "outputs": [],
   "source": [
    "#defining the model with 10 neighbors\n",
    "knn = KNeighborsClassifier(n_neighbors=5, p=2,\n",
    "                               metric='minkowski')\n",
    "knn.fit(X_2, y)\n",
    "\n",
    "#cross validation\n",
    "results3 = cross_val_score(knn, X_2, y, cv=kfold)\n",
    "\n",
    "print(\"mean accuracy %.2f%% (standard deviation %.2f%%)\" % (results3.mean()*100, results3.std()*100))\n",
    "#The results are summarized as both the mean and standard deviation of the model accuracy on the dataset. "
   ]
  }
 ],
 "metadata": {
  "kernelspec": {
   "display_name": "Python 3",
   "language": "python",
   "name": "python3"
  },
  "language_info": {
   "codemirror_mode": {
    "name": "ipython",
    "version": 3
   },
   "file_extension": ".py",
   "mimetype": "text/x-python",
   "name": "python",
   "nbconvert_exporter": "python",
   "pygments_lexer": "ipython3",
   "version": "3.6.5"
  }
 },
 "nbformat": 4,
 "nbformat_minor": 2
}
