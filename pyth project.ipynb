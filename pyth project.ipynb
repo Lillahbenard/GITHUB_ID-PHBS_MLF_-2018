{
 "cells": [
  {
   "cell_type": "markdown",
   "metadata": {},
   "source": [
    "# PREDICTION OF AUTOMOTIVE ACCIDENT SEVERITY"
   ]
  },
  {
   "cell_type": "markdown",
   "metadata": {},
   "source": [
    "* GENERAL"
   ]
  },
  {
   "cell_type": "code",
   "execution_count": 1,
   "metadata": {
    "collapsed": true
   },
   "outputs": [],
   "source": [
    "import numpy as np\n",
    "import pandas as pd"
   ]
  },
  {
   "cell_type": "code",
   "execution_count": 2,
   "metadata": {
    "collapsed": true
   },
   "outputs": [],
   "source": [
    "import matplotlib.pyplot as plt\n",
    "\n",
    "\n",
    "from sklearn.externals.six import StringIO  \n",
    "from IPython.display import Image  \n",
    "from sklearn.tree import export_graphviz"
   ]
  },
  {
   "cell_type": "code",
   "execution_count": 3,
   "metadata": {
    "collapsed": true
   },
   "outputs": [],
   "source": [
    "from sklearn.model_selection import train_test_split\n",
    "from sklearn.tree import DecisionTreeClassifier\n",
    "from sklearn.metrics import accuracy_score\n",
    "from sklearn import tree\n",
    "import os\n",
    "import csv"
   ]
  },
  {
   "cell_type": "code",
   "execution_count": 4,
   "metadata": {
    "collapsed": true
   },
   "outputs": [],
   "source": [
    "from pydotplus import graph_from_dot_data\n",
    "from sklearn.tree import export_graphviz"
   ]
  },
  {
   "cell_type": "code",
   "execution_count": 5,
   "metadata": {
    "collapsed": true
   },
   "outputs": [],
   "source": [
    "from sklearn.preprocessing import StandardScaler\n",
    "from sklearn.decomposition import PCA"
   ]
  },
  {
   "cell_type": "markdown",
   "metadata": {},
   "source": [
    "* NEURAL NETWORK"
   ]
  },
  {
   "cell_type": "code",
   "execution_count": 6,
   "metadata": {},
   "outputs": [
    {
     "name": "stderr",
     "output_type": "stream",
     "text": [
      "/Users/ewagerus/anaconda3/lib/python3.6/site-packages/h5py/__init__.py:34: FutureWarning: Conversion of the second argument of issubdtype from `float` to `np.floating` is deprecated. In future, it will be treated as `np.float64 == np.dtype(float).type`.\n",
      "  from ._conv import register_converters as _register_converters\n"
     ]
    }
   ],
   "source": [
    "from tensorflow.keras.models import Sequential\n",
    "from tensorflow.keras.layers import Dense\n",
    "from tensorflow.keras.wrappers.scikit_learn import KerasClassifier\n",
    "from tensorflow.python.keras import utils\n",
    "from sklearn.model_selection import cross_val_score\n",
    "from sklearn.model_selection import KFold\n",
    "from sklearn.preprocessing import LabelEncoder\n",
    "from sklearn.pipeline import Pipeline"
   ]
  },
  {
   "cell_type": "code",
   "execution_count": 6,
   "metadata": {
    "collapsed": true
   },
   "outputs": [],
   "source": [
    "from sklearn.linear_model import LogisticRegression"
   ]
  },
  {
   "cell_type": "code",
   "execution_count": 7,
   "metadata": {
    "collapsed": true
   },
   "outputs": [],
   "source": [
    "from sklearn.model_selection import KFold\n",
    "from sklearn.model_selection import cross_val_score"
   ]
  },
  {
   "cell_type": "markdown",
   "metadata": {},
   "source": [
    "## DATA PREPROCESSING "
   ]
  },
  {
   "cell_type": "code",
   "execution_count": 73,
   "metadata": {
    "collapsed": true
   },
   "outputs": [],
   "source": [
    "df1 = pd.read_csv('data/2014 excel.csv')\n",
    "df2 = pd.read_csv('data/2015 excel.csv')\n",
    "df3 = pd.read_csv('data/2016 excel.csv')"
   ]
  },
  {
   "cell_type": "code",
   "execution_count": 74,
   "metadata": {
    "collapsed": true
   },
   "outputs": [],
   "source": [
    "#merging files#\n",
    "frames = [df1, df2, df3]\n",
    "result = pd.concat(frames, axis=0)"
   ]
  },
  {
   "cell_type": "code",
   "execution_count": 75,
   "metadata": {
    "collapsed": true
   },
   "outputs": [],
   "source": [
    "#deleting columns and data#\n",
    "result= result.drop(['Grid Ref: Northing','Grid Ref: Easting','Reference Number','Expr1','Accident Date','Lighting Conditions','1st Road Class'],axis=1)\n",
    "result= result.dropna(axis=0)"
   ]
  },
  {
   "cell_type": "code",
   "execution_count": 76,
   "metadata": {
    "collapsed": true
   },
   "outputs": [],
   "source": [
    "#listing objects#\n",
    "list1=['Monday','Tuesday','Wednesday','Thursday']\n",
    "list2=['Friday','Saturday','Sunday']\n",
    "list3=['Fine without high winds','Fine with high winds']\n",
    "list4=['Snowing without high winds','Snowing with high winds']\n",
    "list5=['Raining without high winds','Raining with high winds']\n",
    "list6=['Fog or mist']\n",
    "list7=['Minibus (8 to 16 passenger seats)','Bus or coach (17 or more passenger seats)']\n",
    "list8=['Goods vehicle 3.5 tonnes mgw and under','Goods vehicle over 3.5 tonnes and under 7.5 tonnes mgw','goods','Goods vehicle over 3.5 tonnes and under 7.5 tonnes mgw']\n",
    "list9=['Motorcycle over 50cc and up to 125cc','Motorcycle over 125cc and up to 500cc','M cycle 50cc and under','Motorcycle over 500cc','Motorcycle Unknown CC']\n",
    "list10=['Car','Taxi or Private hire car']\n",
    "list11=['Driver', 'Driver ']\n",
    "list12=['Pedestrian']"
   ]
  },
  {
   "cell_type": "code",
   "execution_count": 77,
   "metadata": {
    "collapsed": true
   },
   "outputs": [],
   "source": [
    "#listing day\n",
    "\n",
    "def b(row):\n",
    "    if row['Day']in list1:\n",
    "        val='weekday'\n",
    "    elif row['Day']in list2:\n",
    "        val='weekend'\n",
    "    return val\n",
    "result['Day'] = result.apply(b, axis=1)\n",
    "\n",
    "\n",
    "#listing weather conditions#\n",
    "\n",
    "def e(row):\n",
    "    if row['Weather Conditions']in list3:\n",
    "        val='fine'\n",
    "    elif row['Weather Conditions']in list4:\n",
    "        val='snowing'\n",
    "    elif row['Weather Conditions']in list5:\n",
    "        val='raining'\n",
    "    elif row['Weather Conditions']in list6:\n",
    "        val='fog'\n",
    "    else: \n",
    "        val='other'   \n",
    "    return val\n",
    "result['Weather Conditions'] = result.apply(e, axis=1)\n",
    "\n",
    "#listing type of vehicle\n",
    "\n",
    "def j(row):\n",
    "    if row['Type of Vehicle']in list7:\n",
    "        val='bus'\n",
    "    elif row['Type of Vehicle']in list8:\n",
    "        val='goods vehicle'\n",
    "    elif row['Type of Vehicle']in list9:\n",
    "        val='motorcycle'\n",
    "    elif row['Type of Vehicle']in list10:\n",
    "        val='car'\n",
    "    else: \n",
    "        val='other'\n",
    "    return val\n",
    "result['Type of Vehicle'] = result.apply(j, axis=1)\n",
    "\n",
    "\n",
    "#listing Time\n",
    "\n",
    "def c(row):\n",
    "    if 600< row['Time (24hr)'] <= 1801:\n",
    "        val='Day-time'\n",
    "    else:\n",
    "        val='Night-time'\n",
    "    return val\n",
    "result['Time (24hr)'] = result.apply(c, axis=1)\n",
    "\n",
    "#listing Casualty Class\n",
    "\n",
    "def a(row):\n",
    "    if row['Casualty Class']in list11:\n",
    "        val='Driver'\n",
    "    elif row['Casualty Class']in list12:\n",
    "        val='Pedestrian'\n",
    "    else: \n",
    "        val='Passenger'\n",
    "    return val\n",
    "result['Casualty Class'] = result.apply(a, axis=1)\n",
    "\n",
    "#Dummies\n",
    "result=pd.get_dummies(result,columns=['Day','Time (24hr)','Road Surface','Weather Conditions','Casualty Class','Sex of Casualty','Type of Vehicle'])\n",
    "\n",
    "#dealing with columns containing the same information\n",
    "result = result.drop(['Day_weekday', 'Time (24hr)_Day-time', 'Sex of Casualty_Female'] , axis=1)\n",
    "\n",
    "\n"
   ]
  },
  {
   "cell_type": "markdown",
   "metadata": {},
   "source": [
    "## RE-SAMPLING - OVER-SAMPLING THE MINORITY CLASS"
   ]
  },
  {
   "cell_type": "code",
   "execution_count": 78,
   "metadata": {},
   "outputs": [
    {
     "data": {
      "text/plain": [
       "Slight     6739\n",
       "Serious     957\n",
       "Fatal        48\n",
       "Name: Casualty Severity, dtype: int64"
      ]
     },
     "execution_count": 78,
     "metadata": {},
     "output_type": "execute_result"
    }
   ],
   "source": [
    "result['Casualty Severity'].value_counts()"
   ]
  },
  {
   "cell_type": "code",
   "execution_count": 79,
   "metadata": {},
   "outputs": [],
   "source": [
    "from imblearn import under_sampling, over_sampling\n",
    "from imblearn.over_sampling import SMOTE\n",
    "from imblearn.under_sampling import RandomUnderSampler"
   ]
  },
  {
   "cell_type": "code",
   "execution_count": 80,
   "metadata": {
    "collapsed": true
   },
   "outputs": [],
   "source": [
    "#dividing into train and test datasets\n",
    "\n",
    "from sklearn.model_selection import train_test_split\n",
    "  \n",
    "X = result.drop('Casualty Severity', axis=1)\n",
    "y = result['Casualty Severity']"
   ]
  },
  {
   "cell_type": "code",
   "execution_count": 81,
   "metadata": {},
   "outputs": [
    {
     "data": {
      "text/plain": [
       "Slight     957\n",
       "Serious    957\n",
       "Fatal       48\n",
       "Name: Casualty Severity, dtype: int64"
      ]
     },
     "execution_count": 81,
     "metadata": {},
     "output_type": "execute_result"
    }
   ],
   "source": [
    "#undersampling 'Slight' class to the 'Serious' class\n",
    "array = ['Slight', 'Serious']\n",
    "result_a=result.loc[result['Casualty Severity'].isin(array)]\n",
    "X_a = result_a.drop('Casualty Severity', axis=1)\n",
    "y_a = result_a['Casualty Severity']\n",
    "sm = RandomUnderSampler()\n",
    "X_a, y_a = sm.fit_sample(X_a, y_a)\n",
    "label = list(X)\n",
    "X_a=pd.DataFrame(data = X_a, columns = label)\n",
    "y_a=pd.DataFrame(data = y_a, columns = ['Casualty Severity'])\n",
    "result_b=pd.merge(y_a,X_a,right_index=True, left_index=True)\n",
    "result_c=result.loc[result['Casualty Severity']=='Fatal']\n",
    "cols=list(result_b)\n",
    "result_c=result_c[cols]\n",
    "result_d=pd.concat([result_b,result_c])\n",
    "result_d['Casualty Severity'].value_counts()"
   ]
  },
  {
   "cell_type": "code",
   "execution_count": 82,
   "metadata": {
    "scrolled": true
   },
   "outputs": [
    {
     "data": {
      "text/plain": [
       "Slight     957\n",
       "Fatal      957\n",
       "Serious    957\n",
       "Name: Casualty Severity, dtype: int64"
      ]
     },
     "execution_count": 82,
     "metadata": {},
     "output_type": "execute_result"
    }
   ],
   "source": [
    "#oversampling 'Fatal' class to the 'Serious' class\n",
    "array = ['Fatal', 'Serious']\n",
    "result_e=result_d.loc[result_d['Casualty Severity'].isin(array)]\n",
    "X_e = result_e.drop('Casualty Severity', axis=1)\n",
    "y_e = result_e['Casualty Severity']\n",
    "sm = SMOTE()\n",
    "X_e, y_e = sm.fit_sample(X_e, y_e)\n",
    "X_d = result_d.drop('Casualty Severity', axis=1)\n",
    "label = list(X_d)\n",
    "X_e=pd.DataFrame(data = X_e, columns = label)\n",
    "y_e=pd.DataFrame(data = y_e, columns = ['Casualty Severity'])\n",
    "result_f=pd.merge(y_e,X_e,right_index=True, left_index=True)\n",
    "result_g=result_d.loc[result_d['Casualty Severity']=='Slight']\n",
    "cols=list(result_f)\n",
    "result_g=result_g[cols]\n",
    "result_h=pd.concat([result_f,result_g])\n",
    "result_h['Casualty Severity'].value_counts()"
   ]
  },
  {
   "cell_type": "code",
   "execution_count": 83,
   "metadata": {
    "collapsed": true
   },
   "outputs": [],
   "source": [
    "#dividing into train and test datasets\n",
    "\n",
    "from sklearn.model_selection import train_test_split\n",
    "  \n",
    "X = result_h.drop('Casualty Severity', axis=1)\n",
    "y = result_h['Casualty Severity']\n",
    "\n",
    "result=result_h"
   ]
  },
  {
   "cell_type": "markdown",
   "metadata": {},
   "source": [
    "## DECISION TREE"
   ]
  },
  {
   "cell_type": "code",
   "execution_count": 71,
   "metadata": {
    "collapsed": true
   },
   "outputs": [],
   "source": [
    "seed=12345\n",
    "np.random.seed(seed)"
   ]
  },
  {
   "cell_type": "code",
   "execution_count": 143,
   "metadata": {
    "collapsed": true
   },
   "outputs": [],
   "source": [
    "import matplotlib.pyplot as plt  \n",
    "%matplotlib inline\n",
    "from sklearn.tree import DecisionTreeClassifier "
   ]
  },
  {
   "cell_type": "code",
   "execution_count": 201,
   "metadata": {},
   "outputs": [
    {
     "name": "stdout",
     "output_type": "stream",
     "text": [
      "45.98836375760606\n",
      "53.91189464032675\n",
      "50.220488455447196\n",
      "53.82602317245977\n",
      "54.71247811952987\n",
      "57.07601900475119\n",
      "58.39493206634992\n",
      "62.47320163374177\n",
      "62.991114445277994\n",
      "65.45691422855714\n",
      "66.49025589730766\n",
      "67.76855880636826\n",
      "69.12464782862382\n",
      "71.216570809369\n",
      "71.6943402517296\n",
      "71.84947903642576\n",
      "73.08880553471703\n",
      "72.8565307993665\n",
      "73.60536800866883\n",
      "73.9278319579895\n",
      "74.01858798032842\n",
      "74.19919979995\n",
      "74.61235308827206\n",
      "74.32818204551138\n",
      "74.43162457280988\n",
      "74.45748103692591\n",
      "74.36697507710261\n",
      "74.37992831541219\n",
      "74.40576810869383\n",
      "74.30239226473286\n",
      "74.3282320580145\n",
      "74.28947236809202\n",
      "74.2765524714512\n",
      "74.26363257481037\n",
      "74.26363257481037\n",
      "74.26363257481037\n",
      "74.26363257481037\n",
      "74.26363257481037\n",
      "74.26363257481037\n"
     ]
    },
    {
     "data": {
      "image/png": "[encoded data removed]",
      "text/plain": [
       "<Figure size 432x288 with 1 Axes>"
      ]
     },
     "metadata": {},
     "output_type": "display_data"
    }
   ],
   "source": [
    "for i in range(1,40):\n",
    "    tree = DecisionTreeClassifier(criterion='gini',max_depth=i ,random_state=1, class_weight='balanced')  \n",
    "    tree .fit(X, y) \n",
    "    y_pred =tree .predict(X)\n",
    "    kfold = KFold(n_splits=10, shuffle=True, random_state=seed)\n",
    "    score = cross_val_score(tree, X, y, cv=kfold)\n",
    "    mean=score.mean()*100\n",
    "    plt.scatter(i, mean)\n",
    "    print(mean)\n",
    "plt.show()"
   ]
  },
  {
   "cell_type": "code",
   "execution_count": 146,
   "metadata": {
    "collapsed": true
   },
   "outputs": [],
   "source": [
    "from sklearn.tree import DecisionTreeClassifier  \n",
    "tree = DecisionTreeClassifier(criterion='gini',max_depth=10,random_state=1)  \n",
    "tree.fit(X, y) \n",
    "y_pred=tree.predict(X)"
   ]
  },
  {
   "cell_type": "code",
   "execution_count": 26,
   "metadata": {},
   "outputs": [],
   "source": [
    "#defining the model evaluation procedure\n",
    "kfold = KFold(n_splits=10, shuffle=True, random_state=seed)"
   ]
  },
  {
   "cell_type": "code",
   "execution_count": 148,
   "metadata": {},
   "outputs": [
    {
     "name": "stdout",
     "output_type": "stream",
     "text": [
      "mean accuracy 75.37% (standard deviation 1.61%)\n"
     ]
    }
   ],
   "source": [
    "score = cross_val_score(tree, X, y, cv=kfold)\n",
    "print(\"mean accuracy %.2f%% (standard deviation %.2f%%)\" % (score.mean()*100, score.std()*100))\n",
    "#The results are summarized as both the mean and standard deviation of the model accuracy on the dataset. "
   ]
  },
  {
   "cell_type": "code",
   "execution_count": 149,
   "metadata": {},
   "outputs": [
    {
     "name": "stdout",
     "output_type": "stream",
     "text": [
      "The 3 most important features in decision tree model are: ['Road Surface_Wet or Damp', 'Age of Casualty', 'Casualty Class_Pedestrian']\n"
     ]
    }
   ],
   "source": [
    "importance = tree.feature_importances_\n",
    "column_names = X.columns.values.tolist()\n",
    "importances = dict(zip(importance, column_names))\n",
    "\n",
    "important_features = []\n",
    "\n",
    "for ii in range(len(importance)):\n",
    "    if ii < 3:\n",
    "        important_features.append(importances[sorted(importance, reverse = True)[ii]])\n",
    "        \n",
    "print('The 3 most important features in decision tree model are: '+str(important_features))\n"
   ]
  },
  {
   "cell_type": "code",
   "execution_count": 150,
   "metadata": {},
   "outputs": [
    {
     "name": "stderr",
     "output_type": "stream",
     "text": [
      "IOPub data rate exceeded.\n",
      "The notebook server will temporarily stop sending output\n",
      "to the client in order to avoid crashing it.\n",
      "To change this limit, set the config variable\n",
      "`--NotebookApp.iopub_data_rate_limit`.\n"
     ]
    }
   ],
   "source": [
    "#Plotting decision tree\n",
    "\n",
    "dot_data = export_graphviz(tree,\n",
    "                            filled=True, \n",
    "                            rounded=True,\n",
    "                            out_file=None,\n",
    "                            feature_names=list(X))  \n",
    "\n",
    "graph=graph_from_dot_data(dot_data)\n",
    "\n",
    "graph.write_png('tree.png')\n",
    "\n",
    "from IPython.display import Image\n",
    "Image('tree.png', width=1000)"
   ]
  },
  {
   "cell_type": "markdown",
   "metadata": {},
   "source": [
    "## STANDARDIZATION AND PCA ANALYSIS"
   ]
  },
  {
   "cell_type": "code",
   "execution_count": 19,
   "metadata": {
    "collapsed": true
   },
   "outputs": [],
   "source": [
    "#standardization \n",
    "stdsc = StandardScaler()\n",
    "X_1 = stdsc.fit_transform(X)"
   ]
  },
  {
   "cell_type": "code",
   "execution_count": 20,
   "metadata": {
    "scrolled": true
   },
   "outputs": [
    {
     "data": {
      "image/png": "[encoded data removed]",
      "text/plain": [
       "<Figure size 432x288 with 1 Axes>"
      ]
     },
     "metadata": {},
     "output_type": "display_data"
    }
   ],
   "source": [
    "#choosing the number of components for PCA\n",
    "pca = PCA().fit(X_1.data)\n",
    "plt.plot(np.cumsum(pca.explained_variance_ratio_))\n",
    "plt.xlabel('number of components')\n",
    "plt.ylabel('cumulative explained variance')\n",
    "plt.show()\n",
    "#the first 15 components contain approximately 90% of the variance"
   ]
  },
  {
   "cell_type": "code",
   "execution_count": 21,
   "metadata": {
    "collapsed": true
   },
   "outputs": [],
   "source": [
    "#PCA\n",
    "pca = PCA(n_components=12)\n",
    "X_2 = pca.fit_transform(X_1)"
   ]
  },
  {
   "cell_type": "markdown",
   "metadata": {},
   "source": [
    "## NEURAL NETWORK"
   ]
  },
  {
   "cell_type": "code",
   "execution_count": 39,
   "metadata": {},
   "outputs": [
    {
     "ename": "NameError",
     "evalue": "name 'LabelEncoder' is not defined",
     "output_type": "error",
     "traceback": [
      "\u001b[0;31m---------------------------------------------------------------------------\u001b[0m",
      "\u001b[0;31mNameError\u001b[0m                                 Traceback (most recent call last)",
      "\u001b[0;32m<ipython-input-39-1c45ed53f2a2>\u001b[0m in \u001b[0;36m<module>\u001b[0;34m()\u001b[0m\n\u001b[1;32m      1\u001b[0m \u001b[0;31m#one hot encoding\u001b[0m\u001b[0;34m\u001b[0m\u001b[0;34m\u001b[0m\u001b[0m\n\u001b[0;32m----> 2\u001b[0;31m \u001b[0mencoder\u001b[0m \u001b[0;34m=\u001b[0m \u001b[0mLabelEncoder\u001b[0m\u001b[0;34m(\u001b[0m\u001b[0;34m)\u001b[0m\u001b[0;34m\u001b[0m\u001b[0m\n\u001b[0m\u001b[1;32m      3\u001b[0m \u001b[0mencoder\u001b[0m\u001b[0;34m.\u001b[0m\u001b[0mfit\u001b[0m\u001b[0;34m(\u001b[0m\u001b[0my\u001b[0m\u001b[0;34m)\u001b[0m\u001b[0;34m\u001b[0m\u001b[0m\n\u001b[1;32m      4\u001b[0m \u001b[0mencoded_y\u001b[0m \u001b[0;34m=\u001b[0m \u001b[0mencoder\u001b[0m\u001b[0;34m.\u001b[0m\u001b[0mtransform\u001b[0m\u001b[0;34m(\u001b[0m\u001b[0my\u001b[0m\u001b[0;34m)\u001b[0m\u001b[0;34m\u001b[0m\u001b[0m\n\u001b[1;32m      5\u001b[0m \u001b[0;34m\u001b[0m\u001b[0m\n",
      "\u001b[0;31mNameError\u001b[0m: name 'LabelEncoder' is not defined"
     ]
    }
   ],
   "source": [
    "#one hot encoding\n",
    "encoder = LabelEncoder()\n",
    "encoder.fit(y)\n",
    "encoded_y = encoder.transform(y)\n",
    "\n",
    "# convert integers to dummy variables (i.e. one hot encoded)\n",
    "dummy_y = utils.np_utils.to_categorical(encoded_y)"
   ]
  },
  {
   "cell_type": "code",
   "execution_count": 47,
   "metadata": {
    "collapsed": true
   },
   "outputs": [],
   "source": [
    "# define baseline model\n",
    "def baseline_model():\n",
    "    model = Sequential()\n",
    "    model.add(Dense(30, input_dim=15, activation='relu'))\n",
    "    model.add(Dense(15, input_dim=30, activation='relu'))\n",
    "    model.add(Dense(3, activation='softmax'))\n",
    "    model.compile(loss='categorical_crossentropy', optimizer='adam', metrics=['accuracy'])\n",
    "    return model\n",
    "\n",
    "#“relu” activation function reduces likelihood of vanishing gradient\n",
    "#using a “softmax” activation function ensuring that the output values are in the range of 0 and 1 and may be used as predicted probabilities\n",
    "#when using the \"categorical_crossentropy\" loss, your targets should be in categorical format (e.g. if you have 10 classes, the target for each sample should be a 10-dimensional vector that is all-zeros except for a 1 at the index corresponding to the class of the sample) \n",
    "#\"Adam\" optimizer realizes the benefits of both AdaGrad (Adaptive Gradient Algorithm) and RMSProp (Root Mean Square Propagation)"
   ]
  },
  {
   "cell_type": "code",
   "execution_count": 48,
   "metadata": {
    "collapsed": true
   },
   "outputs": [],
   "source": [
    "#define classifier\n",
    "estimator = KerasClassifier(build_fn=baseline_model, epochs=100, batch_size=5, verbose=0)\n",
    "#batch defines the number of samples to work through before updating the internal model parameters\n",
    "#epoch defines the number of times that the learning algorithm will work through the entire training dataset\n",
    "#verbose is a general programming term for produce lots of logging output; set to 0 (silent) not to slower the computation"
   ]
  },
  {
   "cell_type": "code",
   "execution_count": 50,
   "metadata": {
    "collapsed": true
   },
   "outputs": [],
   "source": [
    "#calculating results\n",
    "results = cross_val_score(estimator, X_2, dummy_y, cv=kfold)"
   ]
  },
  {
   "cell_type": "code",
   "execution_count": 51,
   "metadata": {},
   "outputs": [
    {
     "name": "stdout",
     "output_type": "stream",
     "text": [
      "mean accuracy 85.83% (standard deviation 1.16%)\n"
     ]
    }
   ],
   "source": [
    "print(\"mean accuracy %.2f%% (standard deviation %.2f%%)\" % (results.mean()*100, results.std()*100))\n",
    "#The results are summarized as both the mean and standard deviation of the model accuracy on the dataset. "
   ]
  },
  {
   "cell_type": "markdown",
   "metadata": {},
   "source": [
    "## KNN"
   ]
  },
  {
   "cell_type": "code",
   "execution_count": 156,
   "metadata": {},
   "outputs": [
    {
     "name": "stdout",
     "output_type": "stream",
     "text": [
      "71.78571428571429\n",
      "71.57725996902826\n",
      "71.99610433604337\n",
      "72.58759194734805\n",
      "73.21476964769647\n",
      "73.18016840882693\n",
      "73.21525358110725\n",
      "72.7269647696477\n",
      "72.13511420828496\n",
      "71.40304394115371\n",
      "71.71711672473869\n",
      "70.49845141308556\n",
      "70.95105013550136\n",
      "70.25382307394501\n"
     ]
    },
    {
     "data": {
      "image/png": "[encoded data removed]",
      "text/plain": [
       "<Figure size 432x288 with 1 Axes>"
      ]
     },
     "metadata": {},
     "output_type": "display_data"
    }
   ],
   "source": [
    "from sklearn.neighbors import KNeighborsClassifier\n",
    "\n",
    "\n",
    "for i in range(1,15):\n",
    "    knn = KNeighborsClassifier(n_neighbors=i, p=2,\n",
    "                               metric='minkowski')\n",
    "    knn.fit(X_2, y)\n",
    "    results3 = cross_val_score(knn, X_2, y, cv=kfold)\n",
    "    mean=results3.mean()*100\n",
    "    plt.scatter(i, mean)\n",
    "    print(mean)\n",
    "plt.show()"
   ]
  },
  {
   "cell_type": "code",
   "execution_count": 157,
   "metadata": {},
   "outputs": [
    {
     "data": {
      "text/plain": [
       "KNeighborsClassifier(algorithm='auto', leaf_size=30, metric='minkowski',\n",
       "           metric_params=None, n_jobs=1, n_neighbors=7, p=2,\n",
       "           weights='uniform')"
      ]
     },
     "execution_count": 157,
     "metadata": {},
     "output_type": "execute_result"
    }
   ],
   "source": [
    "knn = KNeighborsClassifier(n_neighbors=7, p=2,\n",
    "                               metric='minkowski')\n",
    "knn.fit(X_2, y)"
   ]
  },
  {
   "cell_type": "code",
   "execution_count": 158,
   "metadata": {
    "collapsed": true
   },
   "outputs": [],
   "source": [
    "results3 = cross_val_score(knn, X_2, y, cv=kfold)"
   ]
  },
  {
   "cell_type": "code",
   "execution_count": 159,
   "metadata": {},
   "outputs": [
    {
     "name": "stdout",
     "output_type": "stream",
     "text": [
      "mean accuracy 73.22% (standard deviation 2.51%)\n"
     ]
    }
   ],
   "source": [
    "print(\"mean accuracy %.2f%% (standard deviation %.2f%%)\" % (results3.mean()*100, results3.std()*100))\n",
    "#The results are summarized as both the mean and standard deviation of the model accuracy on the dataset. "
   ]
  },
  {
   "cell_type": "markdown",
   "metadata": {},
   "source": [
    "## LOGISTIC REGRESSION"
   ]
  },
  {
   "cell_type": "markdown",
   "metadata": {},
   "source": [
    "* using PCA"
   ]
  },
  {
   "cell_type": "code",
   "execution_count": 22,
   "metadata": {},
   "outputs": [
    {
     "data": {
      "text/plain": [
       "LogisticRegression(C=100, class_weight=None, dual=False, fit_intercept=True,\n",
       "          intercept_scaling=1, max_iter=100, multi_class='ovr', n_jobs=1,\n",
       "          penalty='l2', random_state=1, solver='liblinear', tol=0.0001,\n",
       "          verbose=0, warm_start=False)"
      ]
     },
     "execution_count": 22,
     "metadata": {},
     "output_type": "execute_result"
    }
   ],
   "source": [
    "lr = LogisticRegression(C=100, random_state=1)\n",
    "#the term C is directly related to the regularization parameter λ\n",
    "lr.fit(X_2, y)"
   ]
  },
  {
   "cell_type": "code",
   "execution_count": 27,
   "metadata": {},
   "outputs": [],
   "source": [
    "results1 = cross_val_score(lr, X_2, y, cv=kfold)"
   ]
  },
  {
   "cell_type": "code",
   "execution_count": 28,
   "metadata": {},
   "outputs": [
    {
     "name": "stdout",
     "output_type": "stream",
     "text": [
      "mean accuracy 53.88% (standard deviation 2.96%)\n"
     ]
    }
   ],
   "source": [
    "print(\"mean accuracy %.2f%% (standard deviation %.2f%%)\" % (results1.mean()*100, results1.std()*100))\n",
    "#The results are summarized as both the mean and standard deviation of the model accuracy on the dataset. "
   ]
  },
  {
   "cell_type": "markdown",
   "metadata": {},
   "source": [
    "* without PCA"
   ]
  },
  {
   "cell_type": "code",
   "execution_count": 29,
   "metadata": {
    "collapsed": true
   },
   "outputs": [],
   "source": [
    "X_3 = X.drop(['Road Surface_Dry', 'Weather Conditions_fine', 'Casualty Class_Driver', 'Type of Vehicle_other'], axis=1)"
   ]
  },
  {
   "cell_type": "code",
   "execution_count": 30,
   "metadata": {},
   "outputs": [
    {
     "data": {
      "image/png": "[encoded data removed]",
      "text/plain": [
       "<Figure size 1080x1080 with 2 Axes>"
      ]
     },
     "metadata": {},
     "output_type": "display_data"
    }
   ],
   "source": [
    "import seaborn as sns\n",
    "\n",
    "f, ax = plt.subplots(figsize=(15, 15))\n",
    "corr = X_3.corr()\n",
    "sns.heatmap(corr, mask=np.zeros_like(corr, dtype=np.bool), cmap=sns.diverging_palette(220, 10, as_cmap=True),\n",
    "            square=True, ax=ax)\n",
    "\n",
    "plt.show()"
   ]
  },
  {
   "cell_type": "code",
   "execution_count": 31,
   "metadata": {
    "collapsed": true
   },
   "outputs": [],
   "source": [
    "X_4 = X_3.drop(['Weather Conditions_other',\n",
    " 'Weather Conditions_raining',\n",
    " 'Weather Conditions_snowing'], axis=1)"
   ]
  },
  {
   "cell_type": "code",
   "execution_count": 32,
   "metadata": {},
   "outputs": [
    {
     "data": {
      "image/png": "[encoded data removed]",
      "text/plain": [
       "<Figure size 1080x1080 with 2 Axes>"
      ]
     },
     "metadata": {},
     "output_type": "display_data"
    }
   ],
   "source": [
    "import seaborn as sns\n",
    "\n",
    "f, ax = plt.subplots(figsize=(15, 15))\n",
    "corr = X_4.corr()\n",
    "sns.heatmap(corr, mask=np.zeros_like(corr, dtype=np.bool), cmap=sns.diverging_palette(220, 10, as_cmap=True),\n",
    "            square=True, ax=ax)\n",
    "\n",
    "plt.show()"
   ]
  },
  {
   "cell_type": "code",
   "execution_count": 33,
   "metadata": {},
   "outputs": [
    {
     "data": {
      "text/plain": [
       "LogisticRegression(C=100, class_weight=None, dual=False, fit_intercept=True,\n",
       "          intercept_scaling=1, max_iter=100, multi_class='ovr', n_jobs=1,\n",
       "          penalty='l2', random_state=1, solver='liblinear', tol=0.0001,\n",
       "          verbose=0, warm_start=False)"
      ]
     },
     "execution_count": 33,
     "metadata": {},
     "output_type": "execute_result"
    }
   ],
   "source": [
    "lr = LogisticRegression(C=100, random_state=1)\n",
    "#the term C is directly related to the regularization parameter λ\n",
    "lr.fit(X_4, y)"
   ]
  },
  {
   "cell_type": "code",
   "execution_count": 34,
   "metadata": {
    "collapsed": true
   },
   "outputs": [],
   "source": [
    "results2 = cross_val_score(lr, X_4, y, cv=kfold)"
   ]
  },
  {
   "cell_type": "code",
   "execution_count": 35,
   "metadata": {},
   "outputs": [
    {
     "name": "stdout",
     "output_type": "stream",
     "text": [
      "mean accuracy 56.46% (standard deviation 2.48%)\n"
     ]
    }
   ],
   "source": [
    "print(\"mean accuracy %.2f%% (standard deviation %.2f%%)\" % (results2.mean()*100, results2.std()*100))\n",
    "#The results are summarized as both the mean and standard deviation of the model accuracy on the dataset. "
   ]
  },
  {
   "cell_type": "code",
   "execution_count": 36,
   "metadata": {},
   "outputs": [
    {
     "data": {
      "text/html": [
       "<table>\n",
       "<thead>\n",
       "<tr><th style=\"text-align: right;\">  Number of Vehicles</th><th style=\"text-align: right;\">  Age of Casualty</th><th style=\"text-align: right;\">  Day_weekend</th><th style=\"text-align: right;\">  Time (24hr)_Night-time</th><th style=\"text-align: right;\">  Road Surface_Flood (surface water over 3cm deep)</th><th style=\"text-align: right;\">  Road Surface_Frost or Ice</th><th style=\"text-align: right;\">  Road Surface_Snow</th><th style=\"text-align: right;\">  Road Surface_Wet or Damp</th><th style=\"text-align: right;\">  Casualty Class_Passenger</th><th style=\"text-align: right;\">  Casualty Class_Pedestrian</th><th style=\"text-align: right;\">  Sex of Casualty_Male</th><th style=\"text-align: right;\">  Type of Vehicle_bus</th><th style=\"text-align: right;\">  Type of Vehicle_car</th><th style=\"text-align: right;\">  Type of Vehicle_goods vehicle</th><th style=\"text-align: right;\">  Type of Vehicle_motorcycle</th></tr>\n",
       "</thead>\n",
       "<tbody>\n",
       "<tr><td style=\"text-align: right;\">           -0.590927</td><td style=\"text-align: right;\">        0.0230135</td><td style=\"text-align: right;\">    0.0199518</td><td style=\"text-align: right;\">                0.777241</td><td style=\"text-align: right;\">                                           -1.8059</td><td style=\"text-align: right;\">                   -4.14423</td><td style=\"text-align: right;\">            -2.4917</td><td style=\"text-align: right;\">                  0.860203</td><td style=\"text-align: right;\">                  0.147155</td><td style=\"text-align: right;\">                   0.342886</td><td style=\"text-align: right;\">               1.17325</td><td style=\"text-align: right;\">             -1.14162</td><td style=\"text-align: right;\">            -0.305722</td><td style=\"text-align: right;\">                      -0.238982</td><td style=\"text-align: right;\">                  -0.0422686</td></tr>\n",
       "</tbody>\n",
       "</table>"
      ],
      "text/plain": [
       "<IPython.core.display.HTML object>"
      ]
     },
     "metadata": {},
     "output_type": "display_data"
    }
   ],
   "source": [
    "from IPython.display import HTML, display\n",
    "import tabulate\n",
    "coef = lr.coef_[0]\n",
    "table = [coef]\n",
    "display(HTML(tabulate.tabulate(table, headers=list(X_4), tablefmt='html')))"
   ]
  },
  {
   "cell_type": "markdown",
   "metadata": {},
   "source": [
    "## SUMMARY "
   ]
  },
  {
   "cell_type": "code",
   "execution_count": 186,
   "metadata": {},
   "outputs": [
    {
     "data": {
      "text/html": [
       "<table>\n",
       "<thead>\n",
       "<tr><th>Algorithm                      </th><th>Mean Accuracy     </th><th>Standard Deviation  </th></tr>\n",
       "</thead>\n",
       "<tbody>\n",
       "<tr><td>Random Tree                    </td><td>75.37             </td><td>1.61                </td></tr>\n",
       "<tr><td>Neural Network                 </td><td>results.mean()*100</td><td>results.std()*100   </td></tr>\n",
       "<tr><td>KNN                            </td><td>73.22             </td><td>2.51                </td></tr>\n",
       "<tr><td>Logistic Regression with PCA   </td><td>50.16             </td><td>2.81                </td></tr>\n",
       "<tr><td>Logistic Regression without PCA</td><td>54.55             </td><td>1.58                </td></tr>\n",
       "</tbody>\n",
       "</table>"
      ],
      "text/plain": [
       "<IPython.core.display.HTML object>"
      ]
     },
     "metadata": {},
     "output_type": "display_data"
    }
   ],
   "source": [
    "table = [[\"Random Tree\",round(score.mean()*100,2),round(score.std()*100,2)],\n",
    "         [\"Neural Network\",\"results.mean()*100\",\"results.std()*100\"],\n",
    "         [\"KNN\",round(results3.mean()*100,2) , round(results3.std()*100,2)],\n",
    "         [\"Logistic Regression with PCA\", round(results1.mean()*100,2) , round(results1.std()*100,2)],\n",
    "         [\"Logistic Regression without PCA\", round(results2.mean()*100,2) , round(results2.std()*100,2)]]\n",
    "display(HTML(tabulate.tabulate(table, headers=[\"Algorithm\",\"Mean Accuracy\", \"Standard Deviation\"], tablefmt='html')))"
   ]
  },
  {
   "cell_type": "code",
   "execution_count": 84,
   "metadata": {
    "scrolled": true
   },
   "outputs": [
    {
     "data": {
      "text/plain": [
       "1.000000    1700\n",
       "0.000000     744\n",
       "0.037855       1\n",
       "0.615563       1\n",
       "0.095652       1\n",
       "0.203426       1\n",
       "0.923845       1\n",
       "0.124906       1\n",
       "0.665751       1\n",
       "0.917838       1\n",
       "0.637253       1\n",
       "0.205997       1\n",
       "0.280766       1\n",
       "0.910304       1\n",
       "0.628902       1\n",
       "0.300726       1\n",
       "0.729407       1\n",
       "0.724346       1\n",
       "0.565242       1\n",
       "0.974007       1\n",
       "0.115871       1\n",
       "0.480553       1\n",
       "0.215337       1\n",
       "0.764995       1\n",
       "0.921946       1\n",
       "0.677729       1\n",
       "0.302836       1\n",
       "0.885769       1\n",
       "0.511158       1\n",
       "0.488033       1\n",
       "            ... \n",
       "0.241872       1\n",
       "0.299365       1\n",
       "0.780017       1\n",
       "0.432580       1\n",
       "0.851371       1\n",
       "0.907019       1\n",
       "0.086374       1\n",
       "0.785648       1\n",
       "0.709564       1\n",
       "0.856172       1\n",
       "0.800108       1\n",
       "0.013582       1\n",
       "0.894250       1\n",
       "0.996686       1\n",
       "0.627321       1\n",
       "0.303165       1\n",
       "0.775465       1\n",
       "0.790492       1\n",
       "0.946567       1\n",
       "0.780486       1\n",
       "0.467232       1\n",
       "0.123569       1\n",
       "0.818061       1\n",
       "0.013930       1\n",
       "0.601634       1\n",
       "0.538581       1\n",
       "0.034592       1\n",
       "0.967113       1\n",
       "0.246877       1\n",
       "0.281419       1\n",
       "Name: Road Surface_Dry, Length: 429, dtype: int64"
      ]
     },
     "execution_count": 84,
     "metadata": {},
     "output_type": "execute_result"
    }
   ],
   "source": [
    "result['Road Surface_Dry'].value_counts()"
   ]
  },
  {
   "cell_type": "code",
   "execution_count": null,
   "metadata": {
    "collapsed": true
   },
   "outputs": [],
   "source": []
  }
 ],
 "metadata": {
  "kernelspec": {
   "display_name": "Python 3",
   "language": "python",
   "name": "python3"
  },
  "language_info": {
   "codemirror_mode": {
    "name": "ipython",
    "version": 3
   },
   "file_extension": ".py",
   "mimetype": "text/x-python",
   "name": "python",
   "nbconvert_exporter": "python",
   "pygments_lexer": "ipython3",
   "version": "3.6.3"
  }
 },
 "nbformat": 4,
 "nbformat_minor": 2
}
